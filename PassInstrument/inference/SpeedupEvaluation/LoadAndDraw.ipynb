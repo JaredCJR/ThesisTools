{
 "cells": [
  {
   "cell_type": "code",
   "execution_count": 17,
   "metadata": {},
   "outputs": [
    {
     "name": "stdout",
     "output_type": "stream",
     "text": [
      "Number of programs that are our targets: 272\n",
      "Number of programs that built successfully by ABC: 258\n",
      "Number of programs that speedup by ABC(larger than twice sigma): 148\n",
      "-------------------------------------------------------------------------------------\n"
     ]
    }
   ],
   "source": [
    "import json\n",
    "import numpy as np\n",
    "import matplotlib.pyplot as plt\n",
    "\n",
    "\n",
    "\n",
    "if __name__ == '__main__':\n",
    "    ABC_cycles_mean = json.load(open(\"ABC_cycles_mean.json\"))\n",
    "    Orig_cycles_mean = json.load(open(\"Orig_cycles_mean.json\"))\n",
    "    Orig_cycles_sigma = json.load(open(\"Orig_cycles_sigma.json\"))\n",
    "    # Due to not all the results are available(some may be -1, which indicating failure)\n",
    "    AvailableKeys = []\n",
    "    for target, cycles in ABC_cycles_mean.items():\n",
    "        if cycles != -1:\n",
    "            AvailableKeys.append(target)\n",
    "    SpeedupDict = {}\n",
    "    '''\n",
    "    SpeedupDict contains all the information that we need =)\n",
    "    '''\n",
    "    for target in AvailableKeys:\n",
    "        new = ABC_cycles_mean[target]\n",
    "        old = Orig_cycles_mean[target]\n",
    "        speedup = (old - new) / old\n",
    "        sigma = Orig_cycles_sigma[target]\n",
    "        SpeedupDict[target] = {}\n",
    "        SpeedupDict[target]['new'] = new\n",
    "        SpeedupDict[target]['old'] = old\n",
    "        SpeedupDict[target]['speedup'] = speedup\n",
    "        SpeedupDict[target]['sigma'] = sigma\n",
    "    '''\n",
    "    Discard the speedup or slow-down less than twice sigma\n",
    "    '''\n",
    "    SelectedSpeedupDict = SpeedupDict.copy()\n",
    "    for target, info in SpeedupDict.items():\n",
    "        if abs(info['new'] - info['old']) < 2*info['sigma']:\n",
    "            SelectedSpeedupDict.pop(target, None)\n",
    "    print(\"Number of programs that are our targets: {}\".format(len(Orig_cycles_mean)))\n",
    "    print(\"Number of programs that built successfully by ABC: {}\".format(len(SpeedupDict)))\n",
    "    print(\"Number of programs that speedup by ABC(larger than twice sigma): {}\".format(len(SelectedSpeedupDict)))\n",
    "    print(\"-------------------------------------------------------------------------------------\")\n",
    "        \n",
    "        \n",
    "        \n"
   ]
  },
  {
   "cell_type": "code",
   "execution_count": null,
   "metadata": {},
   "outputs": [],
   "source": []
  }
 ],
 "metadata": {
  "kernelspec": {
   "display_name": "Python 3",
   "language": "python",
   "name": "python3"
  },
  "language_info": {
   "codemirror_mode": {
    "name": "ipython",
    "version": 3
   },
   "file_extension": ".py",
   "mimetype": "text/x-python",
   "name": "python",
   "nbconvert_exporter": "python",
   "pygments_lexer": "ipython3",
   "version": "3.6.4"
  }
 },
 "nbformat": 4,
 "nbformat_minor": 2
}
