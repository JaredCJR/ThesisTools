{
 "cells": [
  {
   "cell_type": "code",
   "execution_count": 50,
   "metadata": {},
   "outputs": [
    {
     "name": "stdout",
     "output_type": "stream",
     "text": [
      "F-value between label/feature for regression tasks:\n",
      "----------------------------------------------------\n",
      "cache-misses: 164.69262296934096\n",
      "L1-dcache-load-misses: 73.39713414780755\n",
      "branch-instructions: 0.16614575707446258\n",
      "dTLB-load-misses: 0.025023930114015425\n",
      "L1-icache-load-misses: 0.005125071611200173\n",
      "dTLB-store-misses: 0.22687438380230496\n",
      "page-faults: 0.4409986191669957\n",
      "LLC-load-misses: 249.45849922446178\n",
      "LLC-store-misses: 0.20831789020212954\n",
      "branch-load-misses: 0.021329848064983635\n",
      "=====================================================\n",
      "done.\n"
     ]
    }
   ],
   "source": [
    "import numpy as np\n",
    "import csv\n",
    "from sklearn.feature_selection import SelectKBest\n",
    "from sklearn.feature_selection import f_regression\n",
    "\n",
    "\n",
    "if __name__ == '__main__':\n",
    "    \"\"\"\n",
    "    Preprocess raw data\n",
    "    \"\"\"\n",
    "    OrderedLabels = ['cpu-cycles', 'branch-instructions', 'cache-misses', 'page-faults',\\\n",
    "                     'L1-dcache-load-misses', 'L1-icache-load-misses', 'LLC-load-misses',\\\n",
    "                     'LLC-store-misses', 'branch-load-misses', 'dTLB-load-misses',\\\n",
    "                     'dTLB-store-misses',\\\n",
    "                    ]\n",
    "    Ylabels = [ 'branch-instructions', 'cache-misses', 'page-faults',\\\n",
    "                'L1-dcache-load-misses', 'L1-icache-load-misses', 'LLC-load-misses',\\\n",
    "                'LLC-store-misses', 'branch-load-misses', 'dTLB-load-misses',\\\n",
    "                'dTLB-store-misses',\\\n",
    "              ]\n",
    "    ListOfList = []\n",
    "    with open(\"./input/gemm_perf_StddevAnalysis_RawInput.csv\") as f:\n",
    "        for line in f:\n",
    "            raw = [raw for raw in line.split(' ') if raw]\n",
    "            tmp = []\n",
    "            for item in raw:\n",
    "                raw = item.replace(',' , '')\n",
    "                try:\n",
    "                    val = int(raw)\n",
    "                    tmp.append(val)\n",
    "                except ValueError:\n",
    "                    pass \n",
    "            ListOfList.append(tmp)\n",
    "\n",
    "    InputDict = {}\n",
    "    for i in range(len(OrderedLabels)):\n",
    "        InputDict[OrderedLabels[i]] = ListOfList[i]\n",
    "    X = []\n",
    "    X_label = []\n",
    "    for key, List in InputDict.items():\n",
    "        if key in Ylabels:\n",
    "            X_label.append(key)\n",
    "            X.append(List)\n",
    "    X = list(map(list, zip(*X)))\n",
    "    y = InputDict['cpu-cycles']\n",
    "    X = np.asarray(X, dtype=np.int64)\n",
    "    y = np.asarray(y, dtype=np.int64)\n",
    "    #print(X_label)\n",
    "    #print(X)\n",
    "    selector = SelectKBest(f_regression, k='all').fit(X,y)\n",
    "    scores = selector.scores_\n",
    "    \n",
    "    print(\"F-value between label/feature for regression tasks:\")\n",
    "    print('----------------------------------------------------')\n",
    "    for i in range(len(X_label)):\n",
    "        print(\"{}: {}\".format(X_label[i], scores[i]))\n",
    "    print('=====================================================\\ndone.')\n"
   ]
  },
  {
   "cell_type": "code",
   "execution_count": null,
   "metadata": {},
   "outputs": [],
   "source": []
  }
 ],
 "metadata": {
  "kernelspec": {
   "display_name": "Python 3",
   "language": "python",
   "name": "python3"
  },
  "language_info": {
   "codemirror_mode": {
    "name": "ipython",
    "version": 3
   },
   "file_extension": ".py",
   "mimetype": "text/x-python",
   "name": "python",
   "nbconvert_exporter": "python",
   "pygments_lexer": "ipython3",
   "version": "3.5.2"
  }
 },
 "nbformat": 4,
 "nbformat_minor": 2
}
